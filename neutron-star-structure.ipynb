{
 "cells": [
  {
   "cell_type": "markdown",
   "metadata": {},
   "source": [
    "# 6.1 Neutron star structure"
   ]
  },
  {
   "cell_type": "code",
   "execution_count": null,
   "metadata": {},
   "outputs": [],
   "source": [
    "# Make sure we have the required Python packages installed\n",
    "!pip install -r requirements.txt"
   ]
  },
  {
   "cell_type": "code",
   "execution_count": null,
   "metadata": {},
   "outputs": [],
   "source": [
    "import numpy as np\n",
    "from numpy import pi\n",
    "import matplotlib.pyplot as plt\n",
    "import matplotlib.cm as cmap\n",
    "from astropy import units, constants as const\n",
    "from scipy.integrate import ode\n",
    "import pandas as pd"
   ]
  },
  {
   "cell_type": "markdown",
   "metadata": {},
   "source": [
    "## TOV equations\n",
    "\n",
    "The TOV equations describe a spherically-symmetric ideal fluid in general-relativistic hydrostatic equilibrium. We can formulate them as two coupled ODEs for the pressure $p(r)$ and interior mass $m(r)$:\n",
    "\n",
    "\\begin{align}\n",
    "\\frac{\\mathrm{d}p}{\\mathrm{d}r}&=-\\frac{\\left(\\rho + p\\right)\\left(m + 4\\pi r^3 p\\right)}{r\\left(r - 2m\\right)} \\\\\n",
    "\\frac{\\mathrm{d}m}{\\mathrm{d}r}&=4\\pi r^2 \\rho\n",
    "\\end{align}\n",
    "\n",
    "To solve the TOV equations we have to specify an _equation of state (EOS)_ that relates pressure $p$ and density $\\rho$, as well as boundary conditions at $r=0$. We require that $m(r=0)=0$ and choose a central density $\\rho(r=0)=\\rho_\\mathrm{central}$."
   ]
  },
  {
   "cell_type": "code",
   "execution_count": null,
   "metadata": {},
   "outputs": [],
   "source": [
    "def dp_dr(r, p, m, eos_rho):\n",
    "    if r <= 0:\n",
    "        return 0\n",
    "    return -(eos_rho(p) + p) * (m + 4 * pi * r**3 * p) / r / (r - 2 * m)\n",
    "def dm_dr(r, p, m, eos_rho):\n",
    "    return 4 * pi * r**2 * eos_rho(p)\n",
    "def tov_equations(r, p_and_m, eos_rho):\n",
    "    return [\n",
    "        dp_dr(r, *p_and_m, eos_rho),\n",
    "        dm_dr(r, *p_and_m, eos_rho)\n",
    "    ]"
   ]
  },
  {
   "cell_type": "markdown",
   "metadata": {},
   "source": [
    "## Integration of the TOV equations\n",
    "\n",
    "Given the EOS and boundary conditions, solving the TOV equations comes down to numerically integrating the two coupled ODEs from $r=0$ outwards. We stop the integration once the pressure vanishes, which defines the surface of the star:"
   ]
  },
  {
   "cell_type": "code",
   "execution_count": null,
   "metadata": {},
   "outputs": [],
   "source": [
    "def solve_tov_equations(p_central, eos_rho, step):\n",
    "    r_initial = 0.\n",
    "    p_and_m_initial = [ p_central, 0. ]\n",
    "    \n",
    "    integrator = ode(tov_equations).set_initial_value(p_and_m_initial, r_initial)\n",
    "    integrator.set_f_params(eos_rho)\n",
    "    integrator.set_integrator('dopri5')\n",
    "    \n",
    "    r_path = [ r_initial ]\n",
    "    p_and_m_path = [ p_and_m_initial ]\n",
    "    while integrator.successful():\n",
    "        p_and_m = integrator.integrate(integrator.t + step)\n",
    "        \n",
    "        r_path.append(integrator.t)\n",
    "        p_and_m_path.append(p_and_m)\n",
    "        \n",
    "        p, m = p_and_m\n",
    "        if p <= 0:\n",
    "            break\n",
    "\n",
    "    r_path = np.asarray(r_path)\n",
    "    p_and_m_path = np.asarray(p_and_m_path)\n",
    "    return r_path, p_and_m_path[:,0], p_and_m_path[:,1]"
   ]
  },
  {
   "cell_type": "markdown",
   "metadata": {},
   "source": [
    "## Setting up units\n",
    "\n",
    "With these conversion factors to \"geometric units\" all quantities have units of length (in kilometers):"
   ]
  },
  {
   "cell_type": "code",
   "execution_count": null,
   "metadata": {},
   "outputs": [],
   "source": [
    "r_units = units.km\n",
    "rho_units = const.c**2 / const.G / r_units**2\n",
    "p_units = const.c**4 / const.G / r_units**2\n",
    "m_units = const.c**2 / const.G * r_units"
   ]
  },
  {
   "cell_type": "markdown",
   "metadata": {},
   "source": [
    "We can convert from and to SI units like this:"
   ]
  },
  {
   "cell_type": "code",
   "execution_count": null,
   "metadata": {},
   "outputs": [],
   "source": [
    "# A mass in SI units\n",
    "test_mass = 1 * units.kg\n",
    "test_mass"
   ]
  },
  {
   "cell_type": "code",
   "execution_count": null,
   "metadata": {},
   "outputs": [],
   "source": [
    "# The same mass in kilometers (geometric units):\n",
    "test_mass_v = test_mass.to(m_units).value\n",
    "test_mass_v"
   ]
  },
  {
   "cell_type": "code",
   "execution_count": null,
   "metadata": {},
   "outputs": [],
   "source": [
    "# Convert back to SI units...\n",
    "test_mass_v * m_units.si"
   ]
  },
  {
   "cell_type": "code",
   "execution_count": null,
   "metadata": {},
   "outputs": [],
   "source": [
    "# ...or CGS units:\n",
    "test_mass_v * m_units.cgs"
   ]
  },
  {
   "cell_type": "markdown",
   "metadata": {},
   "source": [
    "## A simple polytropic EOS\n",
    "\n",
    "Around nuclear density $\\rho_\\mathrm{nuclear}\\approx2.3\\times 10^{17}\\frac{\\mathrm{kg}}{\\mathrm{m^3}}$ we can approximate some models for the equation of state within a neutron star with a simple _polytrope_:\n",
    "\n",
    "\\begin{equation}\n",
    "p(\\rho) = 3\\times 10^{32} \\left(\\frac{\\rho}{\\rho_\\mathrm{nuclear}}\\right)^3 \\frac{\\mathrm{N}}{\\mathrm{m}^2}\n",
    "\\end{equation}"
   ]
  },
  {
   "cell_type": "code",
   "execution_count": null,
   "metadata": {},
   "outputs": [],
   "source": [
    "rho_nuclear = 2.3e17 * units.kg / units.m**3\n",
    "rho_nuclear_v = rho_nuclear.to(rho_units).value"
   ]
  },
  {
   "cell_type": "code",
   "execution_count": null,
   "metadata": {},
   "outputs": [],
   "source": [
    "p_nuclear = 3e32 * units.N / units.m**2\n",
    "p_nuclear_v = p_nuclear.to(p_units).value\n",
    "# We provide both p(rho) and its inverse rho(p)\n",
    "def eos_rho_simple(p):\n",
    "    return (p / p_nuclear_v)**(1/3) * rho_nuclear_v\n",
    "def eos_p_simple(rho):\n",
    "    return (rho / rho_nuclear_v)**3 * p_nuclear_v"
   ]
  },
  {
   "cell_type": "markdown",
   "metadata": {},
   "source": [
    "With the EOS specified we can now solve the TOV equations for any central density $\\rho_\\mathrm{central}$ to obtain the pressure and interior mass profile within the neutron star. Furthermore, we obtain the radius $R$ of the neutron star (which is where the pressure vanishes and we stopped the integration), as well as its mass $M=m(R)$:"
   ]
  },
  {
   "cell_type": "code",
   "execution_count": null,
   "metadata": {},
   "outputs": [],
   "source": [
    "rho_central = 5 * rho_nuclear_v\n",
    "p_central = eos_p_simple(rho_central)\n",
    "r, p, m = solve_tov_equations(p_central=p_central, eos_rho=eos_rho_simple, step=0.1)\n",
    "rho = eos_rho_simple(p) / rho_nuclear_v\n",
    "# Add units to the quantities\n",
    "r = r * r_units\n",
    "p = p * p_units\n",
    "m = m * m_units\n",
    "# The radius of the neutron star\n",
    "R = r[-1]\n",
    "# The mass of the neutron star\n",
    "M = m[-1]\n",
    "\n",
    "fig, axes = plt.subplots(figsize=(9, 6), nrows=3, sharex=True)\n",
    "plt.sca(axes[0])\n",
    "plt.title(r\"Fig. 1: Neutron star profile for $\\rho_\\mathrm{central}=\" + \"{:.1f}\".format(rho_central / rho_nuclear_v) +  r\"\\rho_\\mathrm{nuclear}$\")\n",
    "plt.plot(r.to(units.km), p.to(units.pascal), label=\"Simple polytrope EOS: $R={:.2f}\".format(R) + r\"$, $M=\" + \"{:.2f}\".format(M.si / const.M_sun)+ r\"M_\\odot$\")\n",
    "plt.ylabel(\"$p$ [{}]\".format(units.pascal.to_string('latex_inline')))\n",
    "plt.legend()\n",
    "plt.sca(axes[1])\n",
    "plt.plot(r.to(units.km), m.si / const.M_sun)\n",
    "plt.ylabel(\"$m$ [$M_\\odot$]\")\n",
    "plt.sca(axes[2])\n",
    "plt.plot(r.to(units.km), rho)\n",
    "plt.ylabel(r\"$\\rho$ [$\\rho_\\mathrm{nuclear}$]\")\n",
    "plt.xlabel(\"$r$ [{}]\".format(units.km.to_string('latex_inline')));"
   ]
  },
  {
   "cell_type": "markdown",
   "metadata": {},
   "source": [
    "By varying the central density of a neutron star with the given EOS, we obtain possible values for its radius and mass:"
   ]
  },
  {
   "cell_type": "code",
   "execution_count": null,
   "metadata": {},
   "outputs": [],
   "source": [
    "def sample_eos_mass_radius(eos_p, eos_rho, rho_central_start=2 * rho_nuclear_v, rho_central_log_step=0.05, rho_central_stop=20 * rho_nuclear_v, stop_at_maximum_mass=False):\n",
    "    MR_data = pd.DataFrame(columns=['rho_central', 'M', 'R']).set_index('rho_central')\n",
    "    rho_central = rho_central_start\n",
    "    while rho_central < rho_central_stop:\n",
    "        p_central = eos_p(rho_central)\n",
    "        r, p, m = solve_tov_equations(p_central=p_central, eos_rho=eos_rho, step=0.1)\n",
    "        R = r[-1]\n",
    "        M = m[-1] * m_units.si / const.M_sun\n",
    "        if stop_at_maximum_mass and len(MR_data) > 0 and M < MR_data['M'].iat[-1]:\n",
    "            break\n",
    "        MR_data.loc[rho_central] = [M, R]\n",
    "        rho_central += rho_central * rho_central_log_step\n",
    "    return MR_data"
   ]
  },
  {
   "cell_type": "code",
   "execution_count": null,
   "metadata": {},
   "outputs": [],
   "source": [
    "simple_eos_data = {\n",
    "    'Simple polytropic EOS': sample_eos_mass_radius(eos_p_simple, eos_rho_simple, rho_central_start=5 * rho_nuclear_v)\n",
    "}"
   ]
  },
  {
   "cell_type": "code",
   "execution_count": null,
   "metadata": {},
   "outputs": [],
   "source": [
    "def plot_eos_data(eos_data, fig_i):\n",
    "    fig, axes = plt.subplots(figsize=(8, 5), nrows=2, ncols=1, sharex=True)\n",
    "    for eos_name, MR_data in eos_data.items():\n",
    "        rho_in_rho_nuclear = MR_data.index / rho_nuclear_v\n",
    "        axes[0].plot(rho_in_rho_nuclear, MR_data['R'], label=eos_name, marker='.')\n",
    "        axes[0].set_ylabel(\"$R$ [km]\")\n",
    "        axes[0].legend()\n",
    "        axes[1].plot(rho_in_rho_nuclear, MR_data['M'], marker='.')\n",
    "        axes[1].set_xlabel(r\"$\\rho_\\mathrm{central}$ [$\\rho_\\mathrm{nuclear}$]\")\n",
    "        axes[1].set_ylabel(\"$M$ [$M_\\odot$]\")\n",
    "    axes[0].set_title(\"Fig. {}: Neutron star radii and masses\".format(fig_i))\n",
    "    fig.tight_layout()"
   ]
  },
  {
   "cell_type": "code",
   "execution_count": null,
   "metadata": {},
   "outputs": [],
   "source": [
    "plot_eos_data(simple_eos_data, fig_i=2)"
   ]
  },
  {
   "cell_type": "code",
   "execution_count": null,
   "metadata": {},
   "outputs": [],
   "source": [
    "def plot_mass_radius(eos_data, fig_i):\n",
    "    for eos_name, MR_data in eos_data.items():\n",
    "        plt.plot(MR_data['R'], MR_data['M'], label=eos_name, marker='.')\n",
    "    xrange = (8, 15)\n",
    "    yrange = (0.2, 2.8)\n",
    "    plt.xlabel(\"$R$ [km]\")\n",
    "    plt.ylabel(\"$M$ [$M_\\odot$]\")\n",
    "    plt.title(\"Fig. {}: Neutron star mass-radius relation\".format(fig_i))\n",
    "    plt.legend();"
   ]
  },
  {
   "cell_type": "code",
   "execution_count": null,
   "metadata": {},
   "outputs": [],
   "source": [
    "plot_mass_radius(simple_eos_data, fig_i=3)"
   ]
  },
  {
   "cell_type": "markdown",
   "metadata": {},
   "source": [
    "## EOS for a multi-layered neutron star\n",
    "\n",
    "A better model for the neutron star EOS is a series of polytropes\n",
    "\n",
    "\\begin{equation}\n",
    "p_i(\\rho) = K_i \\rho^\\Gamma_i\n",
    "\\end{equation}\n",
    "\n",
    "where each is valid for a particular density interval. Following [[1]](https://arxiv.org/pdf/0812.2163.pdf) we begin with $\\Gamma_0=1.33$ at sub-nuclear densities that occur in the neutron star crust (taken from [[2]](https://arxiv.org/pdf/astro-ph/0111092.pdf)). We then parametrize three layers of the neutron star core that are divided at densities $\\rho_1=10^{14.7}\\frac{\\mathrm{g}}{\\mathrm{cm^3}}$ and $\\rho_2=10^{15}\\frac{\\mathrm{g}}{\\mathrm{cm^3}}$ with the pressure $p_1$ at density $\\rho_1$ and the three adiabatic indices $\\Gamma_1$, $\\Gamma_2$ and $\\Gamma_3$:"
   ]
  },
  {
   "cell_type": "code",
   "execution_count": null,
   "metadata": {},
   "outputs": [],
   "source": [
    "# Low-density adiabatic index\n",
    "gamma0 = 1.33\n",
    "# Density where the neutron star core begins\n",
    "rho0 = rho_nuclear\n",
    "# Densities that divide the neutron star core into three layers\n",
    "rho1 = 10**14.7 * units.g / units.cm**3\n",
    "rho2 = 10**15 * units.g / units.cm**3\n",
    "\n",
    "rho0_v = rho0.to(rho_units).value\n",
    "rho1_v = rho1.to(rho_units).value\n",
    "rho2_v = rho2.to(rho_units).value\n",
    "def eos_p_polytropic(rho, p1, gamma1, gamma2, gamma3):\n",
    "    global gamma0, rho0_v, rho1_v, rho2_v\n",
    "    p0 = p1 * (rho0_v / rho1_v)**gamma1\n",
    "    p2 = p1 * (rho2_v / rho1_v)**gamma2\n",
    "    return np.piecewise(rho, [\n",
    "        rho < rho0_v,\n",
    "        np.logical_and(rho >= rho0_v, rho < rho1_v),\n",
    "        np.logical_and(rho >= rho1_v, rho < rho2_v),\n",
    "        rho >= rho2_v\n",
    "    ], [\n",
    "        lambda rho: p0 * (rho / rho0_v)**gamma0,\n",
    "        lambda rho: p1 * (rho / rho1_v)**gamma1,\n",
    "        lambda rho: p1 * (rho / rho1_v)**gamma2,\n",
    "        lambda rho: p2 * (rho / rho2_v)**gamma3\n",
    "    ])\n",
    "def eos_rho_polytropic(p, p1, gamma1, gamma2, gamma3):\n",
    "    global gamma0, rho0_v, rho1_v, rho2_v\n",
    "    p0 = p1 * (rho0_v / rho1_v)**gamma1\n",
    "    p2 = p1 * (rho2_v / rho1_v)**gamma2\n",
    "    return np.piecewise(p, [\n",
    "        p < p0,\n",
    "        np.logical_and(p >= p0, p < p1),\n",
    "        np.logical_and(p >= p1, p < p2),\n",
    "        p >= p2\n",
    "    ], [\n",
    "        lambda p: (p / p0)**(1 / gamma0) * rho0_v,\n",
    "        lambda p: (p / p1)**(1 / gamma1) * rho1_v,\n",
    "        lambda p: (p / p1)**(1 / gamma2) * rho1_v,\n",
    "        lambda p: (p / p2)**(1 / gamma3) * rho2_v\n",
    "    ])"
   ]
  },
  {
   "cell_type": "markdown",
   "metadata": {},
   "source": [
    "Table III in [[1]](https://arxiv.org/pdf/0812.2163.pdf) provides best-fit values for the parameters $p_1$, $\\Gamma_1$, $\\Gamma_2$ and $\\Gamma_3$ to many EOS models from nuclear physics. We choose a few EOS from that list:"
   ]
  },
  {
   "cell_type": "code",
   "execution_count": null,
   "metadata": {},
   "outputs": [],
   "source": [
    "polytropes = {\n",
    "    'SLy': {\n",
    "        'p1': 10**34.384 * units.dyne / units.cm**2,\n",
    "        'gamma1': 3.005,\n",
    "        'gamma2': 2.988,\n",
    "        'gamma3': 2.851\n",
    "    },\n",
    "    'GS1': {\n",
    "        'p1': 10**34.504 * units.dyne / units.cm**2,\n",
    "        'gamma1': 2.350,\n",
    "        'gamma2': 1.267,\n",
    "        'gamma3': 2.421,\n",
    "    },\n",
    "    # ...\n",
    "}"
   ]
  },
  {
   "cell_type": "code",
   "execution_count": null,
   "metadata": {},
   "outputs": [],
   "source": [
    "# Create an EOS function that uses the parameters\n",
    "def make_polytrope_eos_p_and_rho(name):\n",
    "    params = polytropes[name]\n",
    "    p1 = params['p1'].to(p_units).value\n",
    "    gammas = [params['gamma1'], params['gamma2'], params['gamma3']]\n",
    "    return (\n",
    "        lambda rho: eos_p_polytropic(rho, p1, *gammas),\n",
    "        lambda p: eos_rho_polytropic(p, p1, *gammas),\n",
    "    )"
   ]
  },
  {
   "cell_type": "code",
   "execution_count": null,
   "metadata": {},
   "outputs": [],
   "source": [
    "# Make a list of all EOS that we want to test\n",
    "eos_list_p_and_rho = [\n",
    "    ('Simple', eos_p_simple, eos_rho_simple)\n",
    "] + [ (name,) + make_polytrope_eos_p_and_rho(name) for name in polytropes ]"
   ]
  },
  {
   "cell_type": "code",
   "execution_count": null,
   "metadata": {},
   "outputs": [],
   "source": [
    "# Plot all EOS\n",
    "rho_space = np.logspace(14, 15.5, 100) * units.g / units.cm**3\n",
    "rho_space_v = rho_space.to(rho_units).value\n",
    "p_units_v = p_units.to(units.dyne / units.cm**2)\n",
    "\n",
    "for name, eos_p, _ in eos_list_p_and_rho:\n",
    "    plt.loglog(rho_space, eos_p(rho_space_v) * p_units_v, label=name)\n",
    "\n",
    "plt.title(\"Fig. 4: Equations of state\")\n",
    "plt.axvline(rho_nuclear.to(units.g / units.cm**3).value, color='black', ls='dotted')\n",
    "plt.axvline(rho1.to(units.g / units.cm**3).value, color='black', ls='dotted')\n",
    "plt.axvline(rho2.to(units.g / units.cm**3).value, color='black', ls='dotted')\n",
    "plt.xlabel(r\"$\\rho$ [{}]\".format((units.g / units.cm**3).to_string('latex_inline')))\n",
    "plt.ylabel(r\"$p$ [{}]\".format((units.dyne / units.cm**2).to_string('latex_inline')))\n",
    "plt.legend();"
   ]
  },
  {
   "cell_type": "markdown",
   "metadata": {},
   "source": [
    "We can now analyse the neutron star mass-radius relation for the multi-layered EOS:\n",
    "\n",
    "**Note: Here, we stop going to larger $\\rho_\\mathrm{central}$ once we reach a maximum in the mass $M(\\rho_\\mathrm{central})$.**"
   ]
  },
  {
   "cell_type": "code",
   "execution_count": null,
   "metadata": {},
   "outputs": [],
   "source": [
    "# This may take a few minutes\n",
    "eos_data = dict([\n",
    "    (eos_name, sample_eos_mass_radius(eos_p, eos_rho, stop_at_maximum_mass=True)) for eos_name, eos_p, eos_rho in eos_list_p_and_rho\n",
    "])"
   ]
  },
  {
   "cell_type": "code",
   "execution_count": null,
   "metadata": {},
   "outputs": [],
   "source": [
    "plot_eos_data(eos_data, fig_i=5)"
   ]
  },
  {
   "cell_type": "code",
   "execution_count": null,
   "metadata": {},
   "outputs": [],
   "source": [
    "plot_mass_radius(eos_data, fig_i=6)"
   ]
  },
  {
   "cell_type": "markdown",
   "metadata": {},
   "source": [
    "Finally, we can use the first observation of a binary neutron star merger GW170817 to constrain the equation of state of nuclear matter. We use the data from Figure 3 (left panel) of the LIGO paper [[3]](https://arxiv.org/abs/1805.11581) to get an idea of the masses and radii of the two observed neutron stars and compare them to the possible masses and radii for each EOS:"
   ]
  },
  {
   "cell_type": "code",
   "execution_count": null,
   "metadata": {},
   "outputs": [],
   "source": [
    "M1_data, M2_data, R1_data, R2_data = np.loadtxt('EoS-insensitive_posterior_samples.dat', unpack=True, usecols=[0, 1, 4, 5])"
   ]
  },
  {
   "cell_type": "code",
   "execution_count": null,
   "metadata": {},
   "outputs": [],
   "source": [
    "xrange = (8, 15)\n",
    "yrange = (0.4, 2.6)\n",
    "plt.hist2d(R1_data, M1_data, bins=40, cmap=cmap.Blues, range=(xrange, yrange), cmin=1);\n",
    "plt.hist2d(R2_data, M2_data, bins=40, cmap=cmap.Reds, range=(xrange, yrange), cmin=1);\n",
    "plot_mass_radius(eos_data, fig_i=7)\n",
    "plt.xlim(*xrange)\n",
    "plt.ylim(*yrange);"
   ]
  },
  {
   "cell_type": "code",
   "execution_count": null,
   "metadata": {},
   "outputs": [],
   "source": []
  }
 ],
 "metadata": {
  "kernelspec": {
   "display_name": "Python 3",
   "language": "python",
   "name": "python3"
  },
  "language_info": {
   "codemirror_mode": {
    "name": "ipython",
    "version": 3
   },
   "file_extension": ".py",
   "mimetype": "text/x-python",
   "name": "python",
   "nbconvert_exporter": "python",
   "pygments_lexer": "ipython3",
   "version": "3.7.2"
  }
 },
 "nbformat": 4,
 "nbformat_minor": 2
}
